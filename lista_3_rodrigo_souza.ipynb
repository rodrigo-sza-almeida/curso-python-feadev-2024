{
 "cells": [
  {
   "cell_type": "code",
   "execution_count": 18,
   "metadata": {},
   "outputs": [],
   "source": [
    "# Exercício 1: Lista [] - O seu caderninho de convidados flexível\n",
    "\n",
    "#Pense numa lista de convidados que você pode modificar:\n",
    "\n",
    "convidados = [\"Ana\", \"Carlos\", \"Bruno\", \"Ana\"]  # Note que Ana pode aparecer mais de uma vez"
   ]
  },
  {
   "cell_type": "code",
   "execution_count": 19,
   "metadata": {},
   "outputs": [
    {
     "name": "stdout",
     "output_type": "stream",
     "text": [
      "['Ana', 'Carlos', 'Bruno', 'Ana', 'Pedro']\n"
     ]
    }
   ],
   "source": [
    "# 1) Você esqueceu de convidar o Pedro! Adicione ele a lista de convidados:\n",
    "\n",
    "convidados.append(\"Pedro\")\n",
    "print(convidados)"
   ]
  },
  {
   "cell_type": "code",
   "execution_count": 4,
   "metadata": {},
   "outputs": [
    {
     "name": "stdout",
     "output_type": "stream",
     "text": [
      "['Ana', 'Carlos', 'Ana', 'Pedro']\n"
     ]
    }
   ],
   "source": [
    "# 2) Bruno te ligou e disse que não irá mais na festa, remova ele da lista:\n",
    "\n",
    "convidados.remove(\"Bruno\")\n",
    "print(convidados)\n"
   ]
  },
  {
   "cell_type": "code",
   "execution_count": 5,
   "metadata": {},
   "outputs": [
    {
     "name": "stdout",
     "output_type": "stream",
     "text": [
      "['Ana', 'Ana', 'Carlos', 'Pedro']\n"
     ]
    }
   ],
   "source": [
    "# 3) Você é uma pessoa organizada, coloque a lista em ordem alfabética:\n",
    "\n",
    "convidados.sort()\n",
    "print(convidados)"
   ]
  },
  {
   "cell_type": "code",
   "execution_count": 6,
   "metadata": {},
   "outputs": [
    {
     "name": "stdout",
     "output_type": "stream",
     "text": [
      "['Fabiano', 'Ana', 'Ana', 'Carlos', 'Pedro']\n"
     ]
    }
   ],
   "source": [
    "# 4) Você gostaria de convidar também o Fabiano e como ele é uma pessoa importante para você, coloque ele na primeira posição da lista:\n",
    "\n",
    "convidados.insert(0, \"Fabiano\")\n",
    "print(convidados)"
   ]
  },
  {
   "cell_type": "code",
   "execution_count": 7,
   "metadata": {},
   "outputs": [
    {
     "name": "stdout",
     "output_type": "stream",
     "text": [
      "['Fabiano', 'Ana', 'Ana', 'Carlos']\n"
     ]
    }
   ],
   "source": [
    "# 5) Você brigou com Pedro e não gostaria mais que ele fosse na festa, remova o nome dele usando pop()\n",
    "\n",
    "convidados.pop(4)\n",
    "print(convidados)"
   ]
  },
  {
   "cell_type": "code",
   "execution_count": 8,
   "metadata": {},
   "outputs": [
    {
     "name": "stdout",
     "output_type": "stream",
     "text": [
      "2\n"
     ]
    }
   ],
   "source": [
    "# 6) Você quer verificar se convidou suas duas amigas chamadas Ana, conte a quantidade de pessoas chamadas Ana presente na lista:\n",
    "\n",
    "print(convidados.count(\"Ana\"))"
   ]
  },
  {
   "cell_type": "code",
   "execution_count": 9,
   "metadata": {},
   "outputs": [
    {
     "data": {
      "text/plain": [
       "4"
      ]
     },
     "execution_count": 9,
     "metadata": {},
     "output_type": "execute_result"
    }
   ],
   "source": [
    "# 7) Por fim, verifique a quantidade final de pessoas presente na lista:\n",
    "\n",
    "len(convidados)"
   ]
  },
  {
   "cell_type": "code",
   "execution_count": 21,
   "metadata": {},
   "outputs": [],
   "source": [
    "# Exercício 2: Tupla () - Um convite impresso\n",
    "\n",
    "#Assim como um convite impresso, o que foi definido em uma tupla não pode mudado.\n",
    "\n",
    "#Imagine que você definiu os detalhes principais da festa em uma tupla, pois eles não vão mudar:\n",
    "\n",
    "detalhes_festa = (\"Festa na piscina\", \"18h\", \"Churrasco\")"
   ]
  },
  {
   "cell_type": "code",
   "execution_count": 20,
   "metadata": {},
   "outputs": [
    {
     "data": {
      "text/plain": [
       "True"
      ]
     },
     "execution_count": 20,
     "metadata": {},
     "output_type": "execute_result"
    }
   ],
   "source": [
    "# 1) Verifique se não esqueceu de adicionar o horário da festa no convite:\n",
    "\n",
    "\"18h\" in detalhes_festa"
   ]
  },
  {
   "cell_type": "code",
   "execution_count": 12,
   "metadata": {},
   "outputs": [
    {
     "data": {
      "text/plain": [
       "True"
      ]
     },
     "execution_count": 12,
     "metadata": {},
     "output_type": "execute_result"
    }
   ],
   "source": [
    "# 2) Poxa! Você acabou de perceber que talvez não tenha adicionado o lembrete \"trazer refrigerante\" no convite, verifique:\n",
    "\n",
    "\"trazer refrigerante\" not in detalhes_festa"
   ]
  },
  {
   "cell_type": "code",
   "execution_count": 13,
   "metadata": {},
   "outputs": [
    {
     "name": "stderr",
     "output_type": "stream",
     "text": [
      "\n",
      "KeyboardInterrupt\n",
      "\n"
     ]
    }
   ],
   "source": [
    "# 3) Tente mudar o horário da festa das 18h para 20h:\n",
    "\n",
    "detalhes_festa.index()"
   ]
  },
  {
   "cell_type": "code",
   "execution_count": 22,
   "metadata": {},
   "outputs": [],
   "source": [
    "# Exercício 3: Conjunto (sets) {} - Uma lista de presença única.\n",
    "\n",
    "presentes = {\"Ana\", \"Carlos\", \"Pedro\", \"Lucas\", \"Ana\"}  \n",
    "\n",
    "# Ana aparece só uma vez\n",
    "# E não importa se Carlos chegou antes de Pedro. A ordem não importa no conjunto."
   ]
  },
  {
   "cell_type": "code",
   "execution_count": 23,
   "metadata": {},
   "outputs": [
    {
     "name": "stdout",
     "output_type": "stream",
     "text": [
      "{'Carlos', 'Pedro', 'Lucas', 'Ana'}\n"
     ]
    }
   ],
   "source": [
    "# 1) De print no conjunto de convidados.\n",
    "\n",
    "# Note que ainda que tenhamos adicionado Ana duas vezes, ela só irá aparecer uma vez no conjunto\n",
    "\n",
    "print(presentes)"
   ]
  },
  {
   "cell_type": "code",
   "execution_count": 15,
   "metadata": {},
   "outputs": [
    {
     "name": "stdout",
     "output_type": "stream",
     "text": [
      "True\n"
     ]
    }
   ],
   "source": [
    "# 2) Verifique se Carlos está presente no conjunto:\n",
    "\n",
    "print(\"Carlos\" in presentes)"
   ]
  },
  {
   "cell_type": "code",
   "execution_count": 16,
   "metadata": {},
   "outputs": [
    {
     "name": "stdout",
     "output_type": "stream",
     "text": [
      "False\n"
     ]
    }
   ],
   "source": [
    "# 3) Agora, verifique se Beatriz está presente no conjunto:\n",
    "\n",
    "print(\"Beatriz\" in presentes)"
   ]
  },
  {
   "cell_type": "code",
   "execution_count": null,
   "metadata": {},
   "outputs": [],
   "source": [
    "# 4) Um amigo inesperado acabou de chegar. Adicione Bruno a lista de presença\n",
    "\n",
    "presentes.add(\"Bruno\")\n",
    "print(presentes)"
   ]
  },
  {
   "cell_type": "code",
   "execution_count": null,
   "metadata": {},
   "outputs": [],
   "source": [
    "# 5) Remova Lucas do conjunto, no final ele não foi para festa!\n",
    "\n",
    "presentes.remove(\"Lucas\")\n",
    "print(presentes)"
   ]
  },
  {
   "cell_type": "code",
   "execution_count": 24,
   "metadata": {},
   "outputs": [],
   "source": [
    "# Exercício 4: Dicionário - A lista de convidados VIP.\n",
    "\n",
    "#Vamos supor que você guarde o nome de cada convidado e o que irá levar para festa:\n",
    "\n",
    "convidados_vip = {\n",
    "    \"Ana\": \"Salada de frutas\",\n",
    "    \"Carlos\": \"Cerveja\",\n",
    "    \"Bruno\": \"Churrasco\",\n",
    "    \"Você\" : {\"Copos\" : 10, \"Arroz\" : \"1kg\"}\n",
    "}\n",
    "\n",
    "# Aqui, cada nome é uma \"chave\" (key), e o que eles vão levar é o \"valor\" (value)."
   ]
  },
  {
   "cell_type": "code",
   "execution_count": 25,
   "metadata": {},
   "outputs": [
    {
     "name": "stdout",
     "output_type": "stream",
     "text": [
      "Cerveja\n"
     ]
    }
   ],
   "source": [
    "# 1) Consulte o Dicionário para verificar o que Carlos irá levar:\n",
    "\n",
    "print(convidados_vip[\"Carlos\"])"
   ]
  },
  {
   "cell_type": "code",
   "execution_count": null,
   "metadata": {},
   "outputs": [],
   "source": [
    "# 2) Agora, Ana decidiu que não levará mais salada de frutas, mas sim torta holandesa. Altere a ficha de Ana:\n",
    "\n",
    "convidados_vip.update({\"Ana\": \"Torta Holandesa\"})\n",
    "print(convidados_vip)"
   ]
  },
  {
   "cell_type": "code",
   "execution_count": null,
   "metadata": {},
   "outputs": [],
   "source": [
    "# 3) Maria decidiu de última hora que iria na festa e decidiu levar refrigerante. Adicione Maria ao dicionário:\n",
    "\n",
    "convidados_vip.update({\"Maria\": \"Refrigerante\"})\n",
    "print(convidados_vip)"
   ]
  },
  {
   "cell_type": "code",
   "execution_count": null,
   "metadata": {},
   "outputs": [],
   "source": [
    "# 4) Você foi ao mercado para comprar os Copos, mas não se lembra da quantidade. Crie um código para verificar isso:\n",
    "\n",
    "print(convidados_vip[\"Você\"][\"Copos\"])"
   ]
  },
  {
   "cell_type": "code",
   "execution_count": null,
   "metadata": {},
   "outputs": [],
   "source": [
    "# 5) Fabiano decidiu que irá ao churrasco e irá levar 1kg de salada de maionese e 6 Cadeiras. Adicione a ficha de Fabiano:\n",
    "\n",
    "convidados_vip.update({\"Fabiano\": {\"Salada\": \"1kg\", \"Cadeiras\": 6}})\n",
    "print(convidados_vip)"
   ]
  },
  {
   "cell_type": "code",
   "execution_count": 26,
   "metadata": {},
   "outputs": [],
   "source": [
    "# Relembrando o que é Loops\n",
    "# For\n",
    "# O \"For\" como um ajudante que segue uma lista de tarefas O loop \"for\" é como um ajudante de cozinha que recebe uma lista de tarefas e vai repetindo a mesma ação para cada item na lista, sem questionar. Você só dá as instruções uma vez e ele vai executando em sequência para cada item.\n",
    "\n",
    "# Que tal praticar? \n",
    "    "
   ]
  },
  {
   "cell_type": "code",
   "execution_count": 27,
   "metadata": {},
   "outputs": [
    {
     "name": "stdout",
     "output_type": "stream",
     "text": [
      "1\n",
      "2\n",
      "3\n",
      "4\n",
      "5\n",
      "6\n",
      "7\n",
      "8\n",
      "9\n",
      "10\n"
     ]
    }
   ],
   "source": [
    "# 1) Escreva um código usando o for para contar de 1 a 10 e imprimir cada número na tela. Esse é o mais básico para entender como o for percorre uma sequência.\n",
    "\n",
    "# Dica: Use range(1, 11) para contar de 1 até 10.\n",
    "\n",
    "\n",
    "for x in range(1,11):\n",
    "    print(x)"
   ]
  },
  {
   "cell_type": "code",
   "execution_count": 28,
   "metadata": {},
   "outputs": [
    {
     "name": "stdout",
     "output_type": "stream",
     "text": [
      "Ana\n",
      "Carlos\n",
      "Bruno\n",
      "Maria\n"
     ]
    }
   ],
   "source": [
    "# 2) Dada a lista de pessoas abaixo. Peça para o seu ajudante escrever o nome de cada pessoa presente na lista utilizando 'for':\n",
    "\n",
    "# Dada a lista de pessoas: \n",
    "\n",
    "convidados = [\"Ana\", \"Carlos\", \"Bruno\", \"Maria\"]\n",
    "\n",
    "for pessoas in convidados:\n",
    "    print(pessoas)     "
   ]
  },
  {
   "cell_type": "code",
   "execution_count": 29,
   "metadata": {},
   "outputs": [],
   "source": [
    "# While\n",
    "# \"While\" como o enchedor de balões incansável.\n",
    "\n",
    "# Pense no while como você enchendo balões: você não sabe exatamente quantas vezes vai soprar cada balão, mas sabe que vai continuar enchendo até que ele atinja o tamanho perfeito.\n",
    "\n",
    "# Bora praticar?\n",
    "\n"
   ]
  },
  {
   "cell_type": "code",
   "execution_count": 30,
   "metadata": {},
   "outputs": [
    {
     "name": "stdout",
     "output_type": "stream",
     "text": [
      "Enchendo o balão... Tamanho atual: 1\n",
      "Enchendo o balão... Tamanho atual: 2\n",
      "Enchendo o balão... Tamanho atual: 3\n",
      "Enchendo o balão... Tamanho atual: 4\n",
      "Enchendo o balão... Tamanho atual: 5\n",
      "Enchendo o balão... Tamanho atual: 6\n",
      "Enchendo o balão... Tamanho atual: 7\n",
      "Enchendo o balão... Tamanho atual: 8\n",
      "Enchendo o balão... Tamanho atual: 9\n",
      "Enchendo o balão... Tamanho atual: 10\n"
     ]
    }
   ],
   "source": [
    "# 1) Dado o exemplo acima, imagine que você deseja encher um balão saindo do 'tamanho = 0' até que ele fique do 'tamanho = 10'. Utilize o 'While' para realizar essa tarefa.\n",
    "\n",
    "tamanho_do_balao = 0 # Comece daqui\n",
    "while tamanho_do_balao < 10:\n",
    "    tamanho_do_balao += 1\n",
    "    print(f\"Enchendo o balão... Tamanho atual: {tamanho_do_balao}\")"
   ]
  },
  {
   "cell_type": "code",
   "execution_count": null,
   "metadata": {},
   "outputs": [
    {
     "name": "stdout",
     "output_type": "stream",
     "text": [
      "Tente novamente!!\n"
     ]
    }
   ],
   "source": [
    "# 2) Siga o passo a passo e peça para um amigo adivinhar o número secreto:\n",
    "\n",
    "# Defina um número secreto (por exemplo, 7).\n",
    "# Use um loop while para perguntar ao seu amigo qual número ele acha que é.\n",
    "# Se ele acertar, imprima \"Parabéns! Você acertou!\" e termine o loop.\n",
    "# Se ele errar, peça que tente novamente.\n",
    "\n",
    "numero_secreto = 7\n",
    "chute = int(input(\"Adivinhe o número entre 1 e 10: \"))\n",
    "\n",
    "while chute != numero_secreto:\n",
    "    chute = int(input(\"Errado! Tente novamente: \"))\n",
    "\n",
    "print(\"Parabéns! Você acertou!\")\n",
    "        \n",
    "    "
   ]
  }
 ],
 "metadata": {
  "kernelspec": {
   "display_name": "Python 3",
   "language": "python",
   "name": "python3"
  },
  "language_info": {
   "codemirror_mode": {
    "name": "ipython",
    "version": 3
   },
   "file_extension": ".py",
   "mimetype": "text/x-python",
   "name": "python",
   "nbconvert_exporter": "python",
   "pygments_lexer": "ipython3",
   "version": "3.12.0"
  }
 },
 "nbformat": 4,
 "nbformat_minor": 2
}
