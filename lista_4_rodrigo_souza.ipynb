{
 "cells": [
  {
   "cell_type": "markdown",
   "metadata": {},
   "source": [
    "Lista de Exercícios 4 - Funções\n",
    "Como visto na última aula, as funções em Python permitem que você encapsule uma série de instruções em um bloco que pode ser chamado sempre que necessário, evitando a repetição de código. Além de simplificar a organização do programa, elas facilitam a leitura e a manutenção do código.\n",
    "\n",
    "Com todo o conteúdo visto até aqui em mente, bora para os exercícios? 🚀\n",
    "\n",
    "Exercício 1: Saudação, clientes!\n",
    "2.png\n",
    "\n",
    "Imagine que você está desenvolvendo um chatbot de atendimento que cumprimenta automaticamente os clientes quando eles iniciam uma conversa. Para isso, você precisa criar uma função de saudação que faça o chatbot parecer mais amigável e acolhedor.\n",
    "\n",
    "Crie uma função chamada saudacao() que receba o nome de uma pessoa e imprima uma saudação personalizada. Ao final, mostre alguns exemplos de uso da função."
   ]
  },
  {
   "cell_type": "code",
   "execution_count": 5,
   "metadata": {},
   "outputs": [
    {
     "name": "stdout",
     "output_type": "stream",
     "text": [
      "Rodrigo, seja bem vindo ao nosso chat bot!!!\n"
     ]
    }
   ],
   "source": [
    "##### SEU CODIGO COMEÇA AQUI #####\n",
    "\n",
    "def saudacao():\n",
    "    return \", seja bem vindo ao nosso chat bot!!!\"\n",
    "\n",
    "\n",
    "nome_usuario = input(\"Digite seu nome para iniciarmos a conversa no chat bot: \")\n",
    "saida = nome_usuario + saudacao()\n",
    "\n",
    "print (saida)\n",
    "    "
   ]
  },
  {
   "cell_type": "markdown",
   "metadata": {},
   "source": [
    "Exercício 2: Organização de eventos\n",
    "1.png\n",
    "\n",
    "Imagine que seu chefe pediu para você, um pequeno gafanhoto (também conhecido como estagiário), calcular a quantidade de água, café e lanches necessária para um evento corporativo. Ele esperava que você fizesse tudo manualmente com caneta e calculadora, tal qual os astecas, mas, como você está aprendendo Python, decidiu aplicar os seus conhecimentos e ganhar tempo.\n",
    "\n",
    "a) Crie uma função chamada calcular_suprimentos() que receba como argumento obrigatório o número de participantes, calcule a quantidade necessária de cada item e imprima ao final um relatório que será enviado ao time de Suprimentos. Para isso, considere que:\n",
    "\n",
    "Cada pessoa, por padrão, consome 2 garrafas de água, 2 xícaras de café e 3 unidades de lanche.\n",
    "Como alguns eventos podem durar mais ou menos, sua função deve incluir argumentos opcionais para ajustar essas quantidades conforme necessário: agua_por_pessoa, cafe_por_pessoa e lanche_por_pessoa.\n",
    "Ao final, faça um exemplo de uso da função, preenchendo também os argumentos opcionais da função com valores diferentes do padrão."
   ]
  },
  {
   "cell_type": "code",
   "execution_count": 6,
   "metadata": {},
   "outputs": [
    {
     "name": "stdout",
     "output_type": "stream",
     "text": [
      "Relatório de Suprimentos para o Evento\n",
      "----------------------------------------\n",
      "Quantidade de participantes: 15\n",
      "Suprimentos necessários:\n",
      "- Água: 60 ml\n",
      "- Café: 45 xícaras\n",
      "- Lanches: 45 unidades\n"
     ]
    }
   ],
   "source": [
    "# Função para calcular a quantidade de suprimentos necessários\n",
    "def calcular_suprimentos(quantidade_participantes, agua_por_pessoa=2, cafe_por_pessoa=2, lanche_por_pessoa=3):\n",
    "\n",
    "    # Calcula a quantidade total de cada item\n",
    "    total_agua = quantidade_participantes * agua_por_pessoa\n",
    "    total_cafe = quantidade_participantes * cafe_por_pessoa\n",
    "    total_lanche = quantidade_participantes * lanche_por_pessoa\n",
    "\n",
    "    # Retorna o resultado em um dicionário\n",
    "    print (\n",
    "        f\"Relatório de Suprimentos para o Evento\\n\"\n",
    "        f\"{'-'*40}\\n\"\n",
    "        f\"Quantidade de participantes: {quantidade_participantes}\\n\"\n",
    "        f\"Suprimentos necessários:\\n\"\n",
    "        f\"- Água: {total_agua} ml\\n\"\n",
    "        f\"- Café: {total_cafe} xícaras\\n\"\n",
    "        f\"- Lanches: {total_lanche} unidades\"\n",
    "    )\n",
    "\n",
    "# Exemplos de uso\n",
    "calcular_suprimentos(quantidade_participantes=15, agua_por_pessoa=4, cafe_por_pessoa=3)  # Usando valores personalizados"
   ]
  },
  {
   "cell_type": "markdown",
   "metadata": {},
   "source": [
    "b) Agora, atualize a função para que ela permita receber outros itens personalizados conforme necessário — por exemplo, ```suco_por_pessoa``` ou ```doces_por_pessoa```. A função deve calcular a quantidade total de cada item, incluindo os itens adicionais passados. Imprima ao final um relatório com as quantidades necessárias de cada item, incluindo os itens extras que foram especificados."
   ]
  },
  {
   "cell_type": "code",
   "execution_count": 7,
   "metadata": {},
   "outputs": [
    {
     "name": "stdout",
     "output_type": "stream",
     "text": [
      "Relatório de Suprimentos para o Evento\n",
      "----------------------------------------\n",
      "\n",
      "Quantidade de participantes: 20\n",
      "\n",
      "Suprimentos necessários:\n",
      "\n",
      "- Água: 40 unidades\n",
      "\n",
      "- Cafe: 60 unidades\n",
      "\n",
      "- Lanche: 60 unidades\n",
      "\n",
      "- Suco_por_pessoa: 20 unidades\n",
      "\n",
      "- Doces_por_pessoa: 40 unidades\n",
      "\n"
     ]
    }
   ],
   "source": [
    "###SEU CÓDIGO COMEÇA AQUI###\n",
    "\n",
    "##### SEU CODIGO COMEÇA AQUI #####\n",
    "\n",
    "# Função para calcular a quantidade de suprimentos necessários\n",
    "def calcular_suprimentos(quantidade_participantes, agua_por_pessoa=2, cafe_por_pessoa=2, lanche_por_pessoa=3, **outros):\n",
    "\n",
    "    # Calcula a quantidade total de cada item padrão\n",
    "    total_agua = quantidade_participantes * agua_por_pessoa\n",
    "    total_cafe = quantidade_participantes * cafe_por_pessoa\n",
    "    total_lanche = quantidade_participantes * lanche_por_pessoa\n",
    "\n",
    "    # Inicializa o dicionário com os itens padrão\n",
    "    suprimentos = {\n",
    "        'água': total_agua,\n",
    "        'cafe': total_cafe,\n",
    "        'lanche': total_lanche\n",
    "    }\n",
    "\n",
    "    # Calcula os itens adicionais passados por **kwargs\n",
    "    for item, quantidade_por_pessoa in outros.items():\n",
    "        suprimentos[item] = quantidade_participantes * quantidade_por_pessoa\n",
    "\n",
    "    # Gera o relatório em formato de texto\n",
    "    print (\n",
    "        f\"Relatório de Suprimentos para o Evento\\n\"\n",
    "        f\"{'-'*40}\\n\\n\"\n",
    "        f\"Quantidade de participantes: {quantidade_participantes}\\n\\n\"\n",
    "        f\"Suprimentos necessários:\\n\"\n",
    "    )\n",
    "\n",
    "    for item, total in suprimentos.items():\n",
    "        print(f\"- {item.capitalize()}: {total} unidades\\n\")\n",
    "\n",
    "# Exemplo de uso\n",
    "calcular_suprimentos(20, agua_por_pessoa=2, cafe_por_pessoa=3, suco_por_pessoa=1, doces_por_pessoa=2)"
   ]
  },
  {
   "cell_type": "markdown",
   "metadata": {},
   "source": [
    "Exercício 3: Descontos da Black Friday!\n",
    "\n",
    "Imagine que você trabalha no setor de vendas de uma empresa e vocês estão se preparando para o famoso dia da Black Friday, precisando calcular os preços com desconto para uma lista de preços de produtos.\n",
    "\n",
    "a) Crie uma função calcular_precos_com_descontos() que, usando map e lambda, aplique um percentual de 10% de desconto a cada valor em uma lista de preços. A função deve retornar uma nova lista com os preços já ajustados."
   ]
  },
  {
   "cell_type": "code",
   "execution_count": 11,
   "metadata": {},
   "outputs": [
    {
     "name": "stdout",
     "output_type": "stream",
     "text": [
      "[90.0, 135.0, 180.0, 225.0, 270.0]\n"
     ]
    }
   ],
   "source": [
    "# Definindo os preços e descontos\n",
    "precos = [100, 150, 200, 250, 300]\n",
    "desconto = 0.10\n",
    "\n",
    "##### SEU CODIGO COMEÇA AQUI #####\n",
    "\n",
    "# Função para calcular os descontos\n",
    "def calcular_precos_com_descontos(precos, desconto):\n",
    "\n",
    "    # Usando map e lambda para aplicar o desconto a cada preço\n",
    "    precos_com_desconto = map(lambda preco: round(preco * (1 - desconto), 2), precos)\n",
    "\n",
    "    # Convertendo o resultado de map para uma lista\n",
    "    return list(precos_com_desconto)\n",
    "\n",
    "# Utilizando a função\n",
    "precos_com_desconto = calcular_precos_com_descontos(precos, desconto)\n",
    "print(precos_com_desconto)\n"
   ]
  },
  {
   "cell_type": "markdown",
   "metadata": {},
   "source": [
    "b) Modifique a função ```calcular_precos_com_descontos()``` para que ela permita aplicar diferentes percentuais de desconto para cada item respectivamente."
   ]
  },
  {
   "cell_type": "code",
   "execution_count": null,
   "metadata": {},
   "outputs": [],
   "source": [
    "precos = [100, 150, 200, 250, 300]\n",
    "descontos = [0.10, 0.15, 0.20, 0.25, 0.30]\n",
    "\n",
    "##### SEU CODIGO COMEÇA AQUI #####\n",
    "\n",
    "# Função para calcular os descontos com percentuais variáveis\n",
    "def calcular_precos_com_descontos(precos, descontos):\n",
    "    precos_com_desconto = map(lambda preco, desconto: round(preco * (1 - desconto), 2), precos, descontos)\n",
    "    return list(precos_com_desconto)\n",
    "\n",
    "# Exemplo de uso com diferentes descontos para cada produto\n",
    "precos_com_desconto = calcular_precos_com_descontos(precos, descontos)\n",
    "print(precos_com_desconto)"
   ]
  },
  {
   "cell_type": "markdown",
   "metadata": {},
   "source": [
    "Exercício 4: Inventário da Vila do Chaves\n",
    "seubarriga.jpeg\n",
    "\n",
    "Você foi contratado pelo Seu Barriga para organizar um sistema organizado de inventário com os itens da Vila do Chaves. Para isso, crie uma função atualizar_inventario() que receba um dicionário de inventário e ofereça as seguintes opções:\n",
    "\n",
    "Consultar o inventário;\n",
    "Adicionar ou substituir um item e a sua quantidade no inventário;\n",
    "Verificar o total de itens presentes no inventário.\n",
    "Ao final do exercício, dê exemplos de uso da função para cada uma das operações criadas."
   ]
  },
  {
   "cell_type": "code",
   "execution_count": 2,
   "metadata": {},
   "outputs": [
    {
     "name": "stdout",
     "output_type": "stream",
     "text": [
      "Item 'bola de futebol' adicionado ao inventário.\n",
      "Inventário: {'Barril do Chaves': 1, 'Vestido da Chiquinha': 1, 'Chapéu do Seu Madruga': 1, 'Pirulito do Quico': 5, 'Buquê de flores da dona Florinda': 7, 'bola de futebol': 2}\n",
      "O item Chapéu do Seu Madruga foi removido do inventário.\n",
      "O inventário possui um total de 16 itens.\n"
     ]
    }
   ],
   "source": [
    "# Inventário inicial da Vila\n",
    "inventario_vila = {\"Barril do Chaves\": 1,\n",
    "                   \"Vestido da Chiquinha\": 1,\n",
    "                   \"Chapéu do Seu Madruga\": 1,\n",
    "                   \"Pirulito do Quico\": 5,\n",
    "                   \"Buquê de flores da dona Florinda\": 7}\n",
    "\n",
    "##### SEU CODIGO COMEÇA AQUI #####\n",
    "\n",
    "# Função para atualizar o inventário da Vila do Chaves\n",
    "def atualizar_inventario(inventario, operacao, item=None, quantidade=0):\n",
    "\n",
    "    # Operação: Consultar itens do personagem\n",
    "    if operacao == \"consultar\":\n",
    "        return f\"Inventário: {inventario}\"\n",
    "\n",
    "    # Operação: Adicionar item ao inventário do personagem\n",
    "    elif operacao == \"adicionar\":\n",
    "        inventario[item] = quantidade\n",
    "        return f\"Item '{item}' adicionado ao inventário.\"\n",
    "    \n",
    "\n",
    "    # Operação: Verificar o total de itens do personagem\n",
    "    elif operacao == \"total\":\n",
    "        total = sum(inventario.values())\n",
    "        return f\"O inventário possui um total de {total} itens.\"\n",
    "    \n",
    "    # Operação de remoção de item do inventário\n",
    "    elif operacao == \"remover\":\n",
    "        del inventario[item]\n",
    "        return f\"O item {item} foi removido do inventário.\"\n",
    "\n",
    "    # Se a operação não for reconhecida\n",
    "    else:\n",
    "        return \"Operação inválida. Escolha entre 'consultar', 'adicionar', 'remover', ou 'total'.\"\n",
    "\n",
    "# Exemplos de uso\n",
    "# Adicionando itens ao inventário do Chaves\n",
    "print(atualizar_inventario(inventario_vila, \"adicionar\", item=\"bola de futebol\", quantidade=2))\n",
    "\n",
    "# Consultando o inventário atualizado do Chaves\n",
    "print(atualizar_inventario(inventario_vila, \"consultar\"))\n",
    "\n",
    "# Removendo um item do inventário do Seu Madruga\n",
    "print(atualizar_inventario(inventario_vila, \"remover\", item=\"Chapéu do Seu Madruga\"))\n",
    "\n",
    "# Verificando o total de itens do Quico\n",
    "print(atualizar_inventario(inventario_vila, \"total\"))"
   ]
  },
  {
   "cell_type": "markdown",
   "metadata": {},
   "source": [
    "Exercício Desafio: Removendo Outliers\n",
    "boxplot.png\n",
    "\n",
    "Imagine que você e seus amigos resolveram ver quem mais maratonou séries na Netflix na última semana. Cada um anotou o número de horas que passou assistindo, mas tem sempre aquele amigo que foi longe demais. Esse número está muito fora da curva e distorce a média da galera. Então, sua tarefa é criar uma função chamada remover_outliers() que receba uma lista com todas as horas assistidas e remova os valores extremos usando o método do intervalo interquartílico (IQR) para depois calcular a média com os valores ajustados. Para isso:\n",
    "\n",
    "Organize os dados em ordem crescente.\n",
    "\n",
    "Crie uma função que encontre o primeiro quartil (Q1) e o terceiro quartil (Q3):\n",
    "\n",
    "Q1 é o valor que marca os 25% mais baixos dos dados, ou seja, 25% dos dados estão abaixo desse valor.\n",
    "Q3 é o valor que marca os 75% dos dados, o ponto onde ficam os 25% mais altos dos valores.\n",
    "Nessa mesma função, calcule o IQR, ou seja, a diferença entre o terceiro quartil e o primeiro quartil.\n",
    "\n",
    "Agora, utilizando a função anteior, crie uma função que determine e exclua os outliers, de modo que:\n",
    "\n",
    "O limite inferior seja definido como Q1 − 1.5 * IQR.\n",
    "O limite superior seja definido como Q3 + 1.5 * IQR."
   ]
  },
  {
   "cell_type": "code",
   "execution_count": 4,
   "metadata": {},
   "outputs": [
    {
     "name": "stdout",
     "output_type": "stream",
     "text": [
      "Dados sem outliers: [4, 20, 6, 7, 30, 8, 10, 12, 15, 18]\n",
      "Média de horas assistidas (sem outliers): 13.0h\n"
     ]
    }
   ],
   "source": [
    "# Lista de horas assistidas na Netflix\n",
    "horas_netflix = [4, 20, 6, 7, 30, 8, 10, 12, 15, 7000, 18, 100]\n",
    "\n",
    "##### SEU CODIGO COMEÇA AQUI #####\n",
    "\n",
    "# Função para calcular Q1 e Q3\n",
    "def calcular_quartis(dados):\n",
    "\n",
    "    # Ordenando os dados\n",
    "    dados_ordenados = sorted(dados)\n",
    "    n = len(dados_ordenados)\n",
    "\n",
    "    # Calculando Q1 (25º percentil)\n",
    "    q1 = dados_ordenados[int(n * 0.25)]\n",
    "\n",
    "    # Calculando Q3 (75º percentil)\n",
    "    q3 = dados_ordenados[int(n * 0.75)]\n",
    "\n",
    "    # Calculando o IQR\n",
    "    iqr = q3 - q1\n",
    "\n",
    "    return q1, q3, iqr\n",
    "\n",
    "# Função para remover outliers\n",
    "def remover_outliers(dados):\n",
    "\n",
    "    # Calculando Q1, Q3 e IQR\n",
    "    q1, q3, iqr = calcular_quartis(dados)\n",
    "\n",
    "    # Calculando os limites\n",
    "    limite_inferior = q1 - 1.5 * iqr\n",
    "    limite_superior = q3 + 1.5 * iqr\n",
    "\n",
    "    # Filtrando dados dentro dos limites\n",
    "    dados_sem_outliers = []\n",
    "\n",
    "    for i in dados:\n",
    "        if (i >= limite_inferior) and (i <= limite_superior):\n",
    "            dados_sem_outliers.append(i)\n",
    "\n",
    "    return dados_sem_outliers\n",
    "\n",
    "# Removendo outliers e calculando a média\n",
    "novos_dados = remover_outliers(horas_netflix)\n",
    "print(f\"Dados sem outliers: {novos_dados}\")\n",
    "media = sum(novos_dados) / len(novos_dados)\n",
    "print(f\"Média de horas assistidas (sem outliers): {round(media,2)}h\")"
   ]
  }
 ],
 "metadata": {
  "kernelspec": {
   "display_name": "Python 3",
   "language": "python",
   "name": "python3"
  },
  "language_info": {
   "codemirror_mode": {
    "name": "ipython",
    "version": 3
   },
   "file_extension": ".py",
   "mimetype": "text/x-python",
   "name": "python",
   "nbconvert_exporter": "python",
   "pygments_lexer": "ipython3",
   "version": "3.12.0"
  }
 },
 "nbformat": 4,
 "nbformat_minor": 2
}
