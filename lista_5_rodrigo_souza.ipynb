{
 "cells": [
  {
   "cell_type": "markdown",
   "metadata": {},
   "source": [
    "INSTRUÇÕES:\n",
    "A realização da lista deve ser feita através no Jupyter Notebook.\n",
    "\n",
    "É primordial enviar as listas para praticar todo o conhecimento adquirido durante o curso.\n",
    "\n",
    "Este DESAFIO foi elaborado para quebrar a cabeça. Por isso, não desista de tentar e de continuar com o curso. Ao longo das listas, você perceberá que terá cada vez mais ferramentas para completá-las.\n",
    "\n",
    "Se surgirem dúvidas sobre a lista, assista as monitorias para entender melhor. Se o problema não for resolvido, envie uma mensagem para o formulário de dúvidas.\n",
    "\n"
   ]
  },
  {
   "cell_type": "code",
   "execution_count": 11,
   "metadata": {},
   "outputs": [],
   "source": [
    "# Vamos começar importando algumas bibliotecas importantes para os exercícios. ps: Escolham o método que desejarem para resolução.\n",
    "import math\n",
    "import numpy as np\n",
    "import random as rd\n",
    "import datetime"
   ]
  },
  {
   "cell_type": "markdown",
   "metadata": {},
   "source": [
    "Questão 0\n",
    "Dr. Keynes\n",
    "No início do século XX, o economista John Maynard Keynes revolucionou o pensamento econômico ao destacar a importância do Produto Interno Bruto (PIB) como uma medida essencial para entender a saúde de uma economia. O PIB é a soma de todos os bens e serviços finais produzidos em uma economia durante um determinado período. Para calculá-lo, basta multiplicar o valor de cada item pelo número de unidades vendidas.\n",
    "\n",
    "Sua missão é ajudar o governo das Ilhas Cayman a calcular o PIB do país neste ano, baseado nos dados fornecidos de três setores da economia: turismo, exportação de frutas tropicais, venda de acessórios, entrada de dinheiro estrangeiro e até a venda de valiosas pinturas.\n",
    "\n",
    "Crie duas matrizes usando o NumPy:\n",
    "\n",
    "A primeira matriz representa o valor unitário dos itens de cada setor.\n",
    "\n",
    "A segunda matriz representa a quantidade vendida de cada item.\n",
    "\n",
    "Sua missão é calcular o PIB das Ilhas Cayman com base com estes dados fictícios. Multiplique as duas matrizes para descobrir o PIB das Ilhas Cayman e exiba o resultado total e printar a seguinte mensagem: \"Com base nos cálculos, o Produto Interno Bruto (PIB) das Ilhas Cayman alcança X bilhões de dólares! Graças ao turismo, à arte, às frutas tropicais e à entrada de dinheiro estrangeiro.\""
   ]
  },
  {
   "cell_type": "code",
   "execution_count": 12,
   "metadata": {},
   "outputs": [
    {
     "name": "stdout",
     "output_type": "stream",
     "text": [
      "Com base nos cálculos, o Produto Interno Bruto (PIB) das Ilhas Cayman alcança 1512160.00 bilhões de dólares! Graças ao turismo, à arte, às frutas tropicais e à entrada de dinheiro estrangeiro.\n"
     ]
    }
   ],
   "source": [
    "import numpy as np\n",
    "\n",
    "matriz_valor_unitario = np.array([750, 5, 25, 2])\n",
    "matriz_quantidade_vendida = np.array([2000, 780, 250, 1005])\n",
    "\n",
    "total = (matriz_valor_unitario * matriz_quantidade_vendida).sum()\n",
    "\n",
    "print(f\"Com base nos cálculos, o Produto Interno Bruto (PIB) das Ilhas Cayman alcança {total:.2f} bilhões de dólares! Graças ao turismo, à arte, às frutas tropicais e à entrada de dinheiro estrangeiro.\")"
   ]
  },
  {
   "cell_type": "markdown",
   "metadata": {},
   "source": [
    "Questão 1\n",
    "a) Filtrando notas abaixo de 7 Um professor quer saber quais alunos tiraram notas abaixo de 7 em uma turma de 100 alunos. Dado um array com as notas de cada aluno, filtre e exiba apenas as notas menores que 7, para que o professor possa ver quais alunos precisam de ajuda. Escreva um código para criar o array de notas e realizar o filtro das notas abaixo de 7."
   ]
  },
  {
   "cell_type": "code",
   "execution_count": 13,
   "metadata": {},
   "outputs": [
    {
     "data": {
      "text/plain": [
       "array([2.91876068, 5.42544368, 1.42170048, 3.7334076 , 6.74133615,\n",
       "       4.41833174, 4.34013993, 6.17766978, 5.13138243, 6.50397182,\n",
       "       6.01038953, 5.21647152, 3.19236089, 0.90459349, 3.00700057,\n",
       "       1.13984362, 0.46896319, 6.26287148, 5.47586156, 1.9894754 ,\n",
       "       3.51652639, 2.95961707, 3.25511638, 1.65015898, 3.92529244,\n",
       "       0.93460375, 1.5115202 , 3.84114449, 4.56304547, 2.51374134,\n",
       "       5.97371648, 5.34557949, 5.90201363, 0.39281767, 3.57181759,\n",
       "       0.7961309 , 3.05459918, 3.30719312, 0.39959209, 4.29492178,\n",
       "       3.14926872, 6.36491143, 3.4634715 , 0.43097356, 4.17509144,\n",
       "       6.05577564, 5.13466627, 5.97836648, 2.62215661, 3.00871309,\n",
       "       0.25399782, 3.03062561, 2.42075875, 5.57578189, 5.6550702 ,\n",
       "       4.75132247, 2.92797976, 0.64251061, 3.39707844, 4.95048631,\n",
       "       4.40773825, 3.18272805, 5.19796986, 5.7813643 , 0.68097274,\n",
       "       4.64530808, 5.8602198 , 0.37094413, 3.50656391, 5.63190684,\n",
       "       2.99729872, 5.12334153, 6.73466925, 1.59193733, 0.5047767 ,\n",
       "       3.37815887, 1.08063773])"
      ]
     },
     "execution_count": 13,
     "metadata": {},
     "output_type": "execute_result"
    }
   ],
   "source": [
    "notas = np.random.uniform(0, 10, size = 100)\n",
    "notas\n",
    "\n",
    "notas[notas < 7]"
   ]
  },
  {
   "cell_type": "markdown",
   "metadata": {},
   "source": [
    "b) Enviando uma lista de itens para a loja\n",
    "\n",
    "Você foi ao mercado e anotou uma lista de itens, mas percebeu que alguns deles estavam repetidos. Agora você quer enviar para a loja apenas os itens únicos. Dado um array com sua lista de compras (com repetições), crie um código que mostre a lista final sem itens duplicados."
   ]
  },
  {
   "cell_type": "code",
   "execution_count": 14,
   "metadata": {},
   "outputs": [
    {
     "data": {
      "text/plain": [
       "array(['arroz', 'açucar', 'biscoito', 'farinha', 'feijão', 'pão', 'sal'],\n",
       "      dtype='<U8')"
      ]
     },
     "execution_count": 14,
     "metadata": {},
     "output_type": "execute_result"
    }
   ],
   "source": [
    "lista_compras = np.array([\"açucar\", \"sal\", \"sal\", \"feijão\", \"arroz\", \"arroz\", \"pão\", \"farinha\", \"biscoito\", \"biscoito\"])\n",
    "np.unique(lista_compras)"
   ]
  },
  {
   "cell_type": "markdown",
   "metadata": {},
   "source": [
    "c) Você é um explorador de planetas e precisa registrar a temperatura em 9 pontos de uma lua que você está investigando. Esses pontos estão organizados em uma grade 3x3. Crie uma matriz 3x3 para representar essas temperaturas, preenchida com números inteiros entre 100°C e 150°C, e exiba a matriz. Por fim, localize a temperatura registrada na segunda linha e terceira coluna."
   ]
  },
  {
   "cell_type": "code",
   "execution_count": 15,
   "metadata": {},
   "outputs": [
    {
     "name": "stdout",
     "output_type": "stream",
     "text": [
      "[['100°c' '120°c' '150°c']\n",
      " ['138°c' '112°c' '129°c']\n",
      " ['144°c' '110°c' '105°c']]\n"
     ]
    },
    {
     "data": {
      "text/plain": [
       "'129°c'"
      ]
     },
     "execution_count": 15,
     "metadata": {},
     "output_type": "execute_result"
    }
   ],
   "source": [
    "import numpy as np\n",
    "\n",
    "lista_temperatura = ['100°c', '120°c', '150°c', '138°c', '112°c', '129°c', '144°c', '110°c', '105°c']\n",
    "lista_temperatura_matriz = np.array(lista_temperatura).reshape(3,3)\n",
    "\n",
    "print(lista_temperatura_matriz)\n",
    "lista_temperatura_matriz[1, -1]"
   ]
  },
  {
   "cell_type": "markdown",
   "metadata": {},
   "source": [
    "Questão 2 - Exercício Cancelado - Não é necessário realizar a questão 2\n",
    "Não será necessário realizar a Questão 2.\n",
    "\n",
    "O conteúdo exigido não foi abordado em aula e está mais relacionado à biblioteca datetime do que a Numpy. Para aqueles que tiverem interesse em aprender mais sobre datetime, recomendamos acessar a documentação oficial do Python e tentar resolver o exercício como um desafio adicional. No entanto, esse conteúdo não será cobrado.\n",
    "\n",
    "Pedimos desculpas pelo inconveniente!\n",
    "\n",
    "Você é um famoso consultor financeiro internacional, constantemente viajando entre diferentes países e lidando com fusos horários variados. Como você é muito ocupado, precisa de um sistema que te ajude a organizar compromissos importantes automaticamente no horário local de cada país.\n",
    "Sua missão é criar um código que, ao receber a data e hora de um compromisso em um fuso horário (GMT), seja capaz de converter essa data e hora para o fuso horário local de outros três países: Brasil (GMT-3), Japão (GMT+9) e Estados Unidos (Nova York, GMT-4).\n",
    "\n",
    "Receba a data e hora de um compromisso (em GMT) e converta para os fusos horários locais do Brasil, Japão e Nova York. Exiba uma mensagem para o usuário indicando os horários em cada país, facilitando a organização da agenda.\n",
    "\n",
    "Saída Esperada:\n",
    "\n",
    "\"Seu compromisso será às 12:00 no Brasil, às 00:00 no Japão (do dia seguinte), e às 11:00 em Nova York.\""
   ]
  },
  {
   "cell_type": "code",
   "execution_count": 16,
   "metadata": {},
   "outputs": [],
   "source": [
    "compromisso_gmt = '2024-10-10 15:00:00'"
   ]
  },
  {
   "cell_type": "markdown",
   "metadata": {},
   "source": [
    "Questão 3\n",
    "Uma loja de eletrônicos está fazendo uma análise dos preços de seus produtos e quer saber quais itens estão acima do preço médio. Dado um array com os preços de 17 produtos, calcule o preço médio e o desvio padrão e exiba apenas os produtos que custam mais do que a média.\n",
    "\n",
    "\n",
    "Escreva um código para calcular o preço médio e filtrar os produtos acima desse valor."
   ]
  },
  {
   "cell_type": "code",
   "execution_count": 17,
   "metadata": {},
   "outputs": [
    {
     "name": "stdout",
     "output_type": "stream",
     "text": [
      "[23.1396193   0.62255848 19.00944705 22.46411648 14.95521037  6.74389937\n",
      "  5.94188594 22.81592137  5.0733251   2.65019443 20.56079455 28.60180039\n",
      "  0.11844799 15.3657679  24.37862885 18.375782   21.65265952]\n"
     ]
    }
   ],
   "source": [
    "np.random.seed(10)\n",
    "\n",
    "preço_produtos = np.random.uniform(0, 30, 17)\n",
    "\n",
    "print(preço_produtos)"
   ]
  },
  {
   "cell_type": "code",
   "execution_count": 19,
   "metadata": {},
   "outputs": [
    {
     "name": "stdout",
     "output_type": "stream",
     "text": [
      "O preço médio dos produtos é do valor de R$ 14.85\n",
      "O desvio padrão dos preços é do valor de R$ 9.04\n",
      "Os produtos que estão acima da média dos preços analisados são:  [23.1396193  19.00944705 22.46411648 14.95521037 22.81592137 20.56079455\n",
      " 28.60180039 15.3657679  24.37862885 18.375782   21.65265952]\n"
     ]
    }
   ],
   "source": [
    "preco_medio = np.mean(preço_produtos)\n",
    "desvio_padrao = np.std(preço_produtos)\n",
    "acima_preco_medio = preço_produtos[preço_produtos > preco_medio]\n",
    "\n",
    "print(f\"O preço médio dos produtos é do valor de R$ {preco_medio:.2f}\")\n",
    "print(f\"O desvio padrão dos preços é do valor de R$ {desvio_padrao:.2f}\")\n",
    "print(f\"Os produtos que estão acima da média dos preços analisados são: \", (acima_preco_medio))"
   ]
  },
  {
   "cell_type": "markdown",
   "metadata": {},
   "source": [
    "Agora, utilize dos métodos .mean() e .std() para calcular a média e o desvio padrão do array anterior"
   ]
  },
  {
   "cell_type": "code",
   "execution_count": null,
   "metadata": {},
   "outputs": [
    {
     "name": "stdout",
     "output_type": "stream",
     "text": [
      "O preço médio da útlima análise é de R$ 21.03\n",
      "O desvio padrão da última análise é de R$ 3.80\n"
     ]
    }
   ],
   "source": [
    "preco_medio_array_anterior = np.mean(acima_preco_medio)\n",
    "desvio_padrao_array_anterior = np.std(acima_preco_medio)\n",
    "\n",
    "print(f\"O preço médio da útlima análise é de R$ {preco_medio_array_anterior:.2f}\")\n",
    "print(f\"O desvio padrão da última análise é de R$ {desvio_padrao_array_anterior:.2f}\")"
   ]
  },
  {
   "cell_type": "markdown",
   "metadata": {},
   "source": [
    "Desafio (Opcional)\n",
    "Uma grande cidade está implementando um novo sistema de transporte público e precisa que você analise os dados de tráfego para otimizar a distribuição de veículos em diferentes rotas. Eles te forneceram uma matriz tridimensional que representa a quantidade de passageiros transportados em 5 linhas de ônibus, durante 7 dias da semana, em 4 diferentes horários de pico (manhã, meio-dia, tarde e noite).\n",
    "\n",
    "Cada dimensão da matriz tem o seguinte significado:\n",
    "\n",
    "Eixo 0: Representa as 5 linhas de ônibus. Eixo 1: Representa os 7 dias da semana. Eixo 2: Representa os 4 horários de pico.\n",
    "\n",
    "Sua missão é ajudar a cidade a otimizar o sistema, resolvendo os seguintes desafios:\n",
    "\n",
    "Média de passageiros por linha: Calcule a média de passageiros transportados em cada uma das 5 linhas de ônibus ao longo da semana.\n",
    "\n",
    "Dia mais movimentado: Encontre qual dia da semana (entre os 7 dias) teve o maior número total de passageiros transportados em todas as linhas e horários de pico.\n",
    "\n",
    "Horário de pico mais movimentado: Identifique qual dos 4 horários de pico (manhã, meio-dia, tarde ou noite) transporta o maior número médio de passageiros.\n",
    "\n",
    "Redistribuição de veículos: A cidade está considerando mover veículos de linhas menos utilizadas para as mais movimentadas. Encontre as duas linhas de ônibus que têm a maior diferença no número total de passageiros ao longo da semana e proponha uma redistribuição onde 10% dos veículos da linha mais tranquila serão movidos para a linha mais movimentada.\n",
    "\n",
    "Pico de operação: Encontre as combinações de linha, dia e horário onde o número de passageiros excede 90% do valor máximo observado em toda a matriz. Estes representam momentos de pico extremo.\n",
    "\n",
    "Utilize operações de agregação do NumPy (como mean, sum, etc.) para resolver cada um dos desafios. Para o último desafio, utilize a técnica de indexação booleana para encontrar as posições que atendem à condição de pico de operação."
   ]
  },
  {
   "cell_type": "code",
   "execution_count": 20,
   "metadata": {},
   "outputs": [
    {
     "data": {
      "text/plain": [
       "array([[[ 59, 175, 278,  65],\n",
       "        [114, 163, 173, 206],\n",
       "        [267, 271, 290, 207],\n",
       "        [163,  58, 123,  50],\n",
       "        [284,  90, 296, 214],\n",
       "        [165,  66, 150, 289],\n",
       "        [189, 104, 138, 157]],\n",
       "\n",
       "       [[172, 112,  83, 250],\n",
       "        [150, 256, 227, 229],\n",
       "        [104, 127, 247,  63],\n",
       "        [293, 203, 176, 191],\n",
       "        [142, 136,  80, 208],\n",
       "        [139, 190, 115,  81],\n",
       "        [107,  86,  77,  68]],\n",
       "\n",
       "       [[143, 127, 200, 201],\n",
       "        [144, 298, 189, 206],\n",
       "        [124, 266, 187,  65],\n",
       "        [ 68, 258, 168, 121],\n",
       "        [138, 189, 195, 224],\n",
       "        [185, 253,  78,  83],\n",
       "        [262, 146, 266,  94]],\n",
       "\n",
       "       [[183,  54, 121, 138],\n",
       "        [138, 100, 158, 232],\n",
       "        [ 84, 154,  65, 255],\n",
       "        [138, 193, 184, 296],\n",
       "        [135, 284, 200,  61],\n",
       "        [162,  62, 270, 274],\n",
       "        [112, 296, 235, 291]],\n",
       "\n",
       "       [[129, 158, 282,  92],\n",
       "        [287, 107, 285, 147],\n",
       "        [100,  95, 218, 267],\n",
       "        [251, 215, 178, 196],\n",
       "        [ 73,  53,  79,  66],\n",
       "        [134, 132, 162,  64],\n",
       "        [101, 129, 293,  67]]])"
      ]
     },
     "execution_count": 20,
     "metadata": {},
     "output_type": "execute_result"
    }
   ],
   "source": [
    "np.random.seed(10)\n",
    "passageiros = np.random.randint(50, 300, size=(5, 7, 4))\n",
    "passageiros"
   ]
  },
  {
   "cell_type": "code",
   "execution_count": null,
   "metadata": {},
   "outputs": [
    {
     "name": "stdout",
     "output_type": "stream",
     "text": [
      "A média de passageiros por linha é: \n"
     ]
    },
    {
     "data": {
      "text/plain": [
       "(196.10714285714286,\n",
       " 171.89285714285714,\n",
       " 172.21428571428572,\n",
       " 164.96428571428572,\n",
       " 192.82142857142858)"
      ]
     },
     "execution_count": 63,
     "metadata": {},
     "output_type": "execute_result"
    }
   ],
   "source": [
    "media_por_linha = np.mean(passageiros, axis=(1, 2))\n",
    "\n",
    "print(f\"A média de passageiros por linha é: \")\n",
    "*media_por_linha,"
   ]
  },
  {
   "cell_type": "code",
   "execution_count": null,
   "metadata": {},
   "outputs": [
    {
     "name": "stdout",
     "output_type": "stream",
     "text": [
      "Dia mais movimentado:  Quinta\n"
     ]
    }
   ],
   "source": [
    "passageiros_por_dia = np.sum(passageiros, axis=(0, 2))\n",
    "\n",
    "dia_mais_movimentado = np.argmax(passageiros_por_dia)\n",
    "\n",
    "dias_da_semana = {\n",
    "    0: \"Segunda\",\n",
    "    1: \"Terça\",\n",
    "    2: \"Quarta\",\n",
    "    3: \"Quinta\",\n",
    "    4: \"Sexta\",\n",
    "    5: \"Sábado\",\n",
    "    6: \"Domingo\"\n",
    "}\n",
    "\n",
    "print(\"Dia mais movimentado: \", dias_da_semana[dia_mais_movimentado])"
   ]
  },
  {
   "cell_type": "code",
   "execution_count": null,
   "metadata": {},
   "outputs": [
    {
     "name": "stdout",
     "output_type": "stream",
     "text": [
      "Horário mais movimentado:  Meio-dia\n"
     ]
    }
   ],
   "source": [
    "media_por_horario = np.mean(passageiros, axis=(0, 1))\n",
    "\n",
    "horario_mais_movimentado = np.argmax(media_por_horario)\n",
    "\n",
    "horarios = {\n",
    "    0: \"Manhã\",\n",
    "    1: \"Meio-dia\",\n",
    "    2: \"Tarde\",\n",
    "    3: \"Noite\",\n",
    "}\n",
    "\n",
    "print(\"Horário mais movimentado: \", horarios[horario_mais_movimentado])"
   ]
  },
  {
   "cell_type": "code",
   "execution_count": null,
   "metadata": {},
   "outputs": [
    {
     "name": "stdout",
     "output_type": "stream",
     "text": [
      "Linha mais movimentada:  1\n",
      "Linha menos movimentada:  4\n",
      "Mover 549 passageiros da linha mais movimentada para a menos movimentada\n",
      "Valor final de cada linha:\n",
      "\tMenos movimentada: 5168\n",
      "\tMais movimentada: 4942\n"
     ]
    }
   ],
   "source": [
    "total_por_linha = np.sum(passageiros, axis=(1, 2))\n",
    "linha_mais_movimentada = np.argmax(total_por_linha)\n",
    "linha_menos_movimentada = np.argmin(total_por_linha)\n",
    "\n",
    "print(\"Linha mais movimentada: \", linha_mais_movimentada + 1)\n",
    "print(\"Linha menos movimentada: \", linha_menos_movimentada + 1)\n",
    "\n",
    "print(f\"Mover {total_por_linha[linha_mais_movimentada] * 0.1:.0f} passageiros da linha mais movimentada para a menos movimentada\")\n",
    "\n",
    "print(f\"Valor final de cada linha:\\n\\tMenos movimentada: {total_por_linha[linha_menos_movimentada] + total_por_linha[linha_mais_movimentada] * 0.1:.0f}\\n\\tMais movimentada: {total_por_linha[linha_mais_movimentada] * 0.9:.0f}\")"
   ]
  },
  {
   "cell_type": "code",
   "execution_count": null,
   "metadata": {},
   "outputs": [
    {
     "name": "stdout",
     "output_type": "stream",
     "text": [
      "O limite de passageiros para o horário de pico é de 266 passageiros\n",
      "Momentos de pico extremo (linha, dia, horário):\n",
      " [['1' 'Segunda' 'Tarde']\n",
      " ['1' 'Terça' 'Manhã']\n",
      " ['1' 'Quarta' 'Meio-dia']\n",
      " ['1' 'Quarta' 'Tarde']\n",
      " ['1' 'Sábado' 'Meio-dia']\n",
      " ['2' 'Quarta' 'Tarde']\n",
      " ['3' 'Quarta' 'Manhã']\n",
      " ['3' 'Sexta' 'Manhã']\n",
      " ['3' 'Domingo' 'Noite']\n",
      " ['4' 'Terça' 'Meio-dia']\n",
      " ['4' 'Sexta' 'Tarde']\n",
      " ['4' 'Sexta' 'Noite']\n",
      " ['5' 'Segunda' 'Tarde']\n",
      " ['5' 'Quarta' 'Manhã']\n",
      " ['5' 'Quinta' 'Noite']\n",
      " ['5' 'Sábado' 'Noite']\n",
      " ['5' 'Domingo' 'Meio-dia']\n",
      " ['5' 'Domingo' 'Tarde']]\n"
     ]
    }
   ],
   "source": [
    "max_passageiros = np.max(passageiros)\n",
    "limite_pico = max_passageiros * 0.9\n",
    "\n",
    "print(f\"O limite de passageiros para o horário de pico é de {limite_pico:.0f} passageiros\")\n",
    "\n",
    "# Se não souber com argwhere, pode usar a indexação booleana\n",
    "picos_de_operacao = np.argwhere(passageiros > limite_pico)\n",
    "\n",
    "# Não precisa fazer isso, apenas para melhorar a visualização\n",
    "picos_de_operacao = np.array([(linha + 1, dias_da_semana[dia], horarios[horario]) for linha, dia, horario in picos_de_operacao])\n",
    "\n",
    "print(\"Momentos de pico extremo (linha, dia, horário):\\n\", picos_de_operacao)"
   ]
  }
 ],
 "metadata": {
  "kernelspec": {
   "display_name": "Python 3",
   "language": "python",
   "name": "python3"
  },
  "language_info": {
   "codemirror_mode": {
    "name": "ipython",
    "version": 3
   },
   "file_extension": ".py",
   "mimetype": "text/x-python",
   "name": "python",
   "nbconvert_exporter": "python",
   "pygments_lexer": "ipython3",
   "version": "3.12.0"
  }
 },
 "nbformat": 4,
 "nbformat_minor": 2
}
