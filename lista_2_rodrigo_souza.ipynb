{
 "cells": [
  {
   "cell_type": "code",
   "execution_count": 6,
   "metadata": {},
   "outputs": [
    {
     "name": "stdout",
     "output_type": "stream",
     "text": [
      "Sua nota é: 2.92, Reprovado!!!\n"
     ]
    }
   ],
   "source": [
    "# Exercício 1: Aprovação ou Reprovação (Condicional) \n",
    "\n",
    "# Entrada de dados pelo usuário\n",
    "\n",
    "nota_p1 = float(input(\"Digite sua primeira nota: \"))\n",
    "nota_p2 = float(input(\"Digite sua segunda nota: \"))\n",
    "nota_p3 = float(input(\"Digite sua terceira nota: \"))\n",
    "\n",
    "# Cálculo da nota utilizando a P1\n",
    "\n",
    "if nota_p1 > nota_p2:\n",
    "    nota_final_p1 = (nota_p1 * 4 + nota_p3 * 6) / 10\n",
    "    \n",
    "    if nota_final_p1 >= 5.00:\n",
    "        print(f\"Sua nota é: {nota_final_p1:.2f}, Aprovado utilizando a P1!!!\")\n",
    "    \n",
    "    elif nota_final_p1 <= 3.00 and nota_final_p1 < 5.00:\n",
    "        print(f\"Sua nota é: {nota_final_p1:.2f}, Reaval!!!\")\n",
    "    \n",
    "    elif nota_final_p1 < 3.00:\n",
    "        print(f\"Sua nota é: {nota_final_p1:.2f}, Reprovado!!!\")   \n",
    "        \n",
    "# Cálculo da nota utilizando a P2        \n",
    "    \n",
    "    \n",
    "if nota_p2 > nota_p1:\n",
    "    nota_final_p2 = (nota_p2 * 4 + nota_p3 * 6) / 10\n",
    "    \n",
    "    if nota_final_p2 >= 5.00:\n",
    "        print(f\"Sua nota é: {nota_final_p2:.2f}, Aprovado utilizando a P2!!!\")\n",
    "    \n",
    "    elif nota_final_p2 <= 3.00 and nota_final_p2 < 5.00:\n",
    "        print(f\"Sua nota é: {nota_final_p2:.2f}, Reaval!!!\")\n",
    "        \n",
    "    else:\n",
    "        print(f\"Sua nota é: {nota_final_p2:.2f}, Reprovado!!!\")  \n",
    "      "
   ]
  },
  {
   "cell_type": "code",
   "execution_count": 7,
   "metadata": {},
   "outputs": [
    {
     "name": "stdout",
     "output_type": "stream",
     "text": [
      "1\n",
      "11\n",
      "1111\n",
      "11111111\n",
      "1111111111111111\n"
     ]
    }
   ],
   "source": [
    "# Exercício 2: Mitose (Loop) \n",
    "\n",
    "# Entrada: número de segundos\n",
    "segundos = int(input(\"Digite o número de segundos: \"))\n",
    "\n",
    "# Inicializando a população de bactérias com 1\n",
    "populacao_bacterias = 1\n",
    "\n",
    "# Inicializa o tempo inicial\n",
    "tempo = 0\n",
    "\n",
    "# Print para melhor visualização dos dados\n",
    "print()\n",
    "\n",
    "# Loop while para construir a pirâmide\n",
    "while tempo < segundos:\n",
    "    # Imprime a população de bactérias correspondente ao segundo atual\n",
    "    print(\"1\" * populacao_bacterias)\n",
    "\n",
    "    # Dobra a população de bactérias a cada segundo\n",
    "    populacao_bacterias *= 2\n",
    "\n",
    "    # Incrementa o contador de tempo\n",
    "    tempo += 1"
   ]
  },
  {
   "cell_type": "code",
   "execution_count": 1,
   "metadata": {},
   "outputs": [
    {
     "name": "stdout",
     "output_type": "stream",
     "text": [
      "3\n"
     ]
    }
   ],
   "source": [
    "# Exercício 3: Mínimo Múltiplo Comum (Loop)\n",
    "\n",
    "# Valores dados no problema.\n",
    "velocidade_luz = 1079252847  # km/h\n",
    "velocidade_som = 1233        # km/h\n",
    "\n",
    "# O MMC deve ser maior ou igual ao maior dos dois números, então começamos por ele.\n",
    "mmc = velocidade_luz if velocidade_luz > velocidade_som else velocidade_som\n",
    "\n",
    "# Usando o loop while para encontrar o MMC.\n",
    "while True:\n",
    "    # Verifica se 'mmc' é divisível por ambos os números.\n",
    "    if mmc % velocidade_luz == 0 and mmc % velocidade_som == 0:\n",
    "        # Se sim, encontramos o MMC e saímos do loop.\n",
    "        break\n",
    "    # Caso contrário, aumentamos o valor do mmc em 1 (ou mais) e tentamos novamente.\n",
    "    mmc += 1\n",
    "\n",
    "# Exibe o resultado do MMC.\n",
    "print(\"O MMC entre a velocidade da luz e do som é:\", mmc)"
   ]
  },
  {
   "cell_type": "code",
   "execution_count": 3,
   "metadata": {},
   "outputs": [
    {
     "name": "stdout",
     "output_type": "stream",
     "text": [
      "#####################\n",
      "#                   #\n",
      "#                   #\n",
      "#                   #\n",
      "#                   #\n",
      "#                   #\n",
      "#####################\n",
      "O custo será de \n"
     ]
    }
   ],
   "source": [
    "# Desafio 1/2: Cercado (Loop)\n",
    "\n",
    "# Solicita a largura do retângulo ao usuário.\n",
    "largura = int(input('Digite a largura do retângulo: '))\n",
    "\n",
    "# Define o comprimento com base na largura, sendo 3 vezes a largura.\n",
    "comprimento = largura * 3\n",
    "\n",
    "# Adiciona uma linha vazia para melhorar a visualização.\n",
    "print()\n",
    "\n",
    "# Inicializa uma variável de controle para o laço 'while'.\n",
    "a = 1\n",
    "\n",
    "# Inicia um loop que percorre cada linha do retângulo.\n",
    "while a <= largura:\n",
    "\n",
    "    # Se for a primeira linha ou a última linha, imprime uma linha completa com '#'.\n",
    "    if a == 1 or a == largura:\n",
    "        print(f'{\"#\"*comprimento}')\n",
    "    else:\n",
    "        # Caso contrário, imprime uma linha com bordas e espaços no meio.\n",
    "        vazio = comprimento - 2  # Define o número de espaços entre as bordas.\n",
    "        print(f'#{\" \"*vazio}#')\n",
    "\n",
    "    # Incrementa a variável de controle para avançar para a próxima linha.\n",
    "    a += 1"
   ]
  },
  {
   "cell_type": "code",
   "execution_count": 14,
   "metadata": {},
   "outputs": [
    {
     "name": "stdout",
     "output_type": "stream",
     "text": [
      "Produto correto!!!\n"
     ]
    }
   ],
   "source": [
    "# Pede ao usuário que insira o nome do produto.\n",
    "produto = input(\"Digite o nome do produto (somente letras, sem espaços): \")\n",
    "\n",
    "# Verifica se o produto contém apenas letras e não possui espaços.\n",
    "while not produto.isalpha():  # isalpha retorna true se todos os caracteres da string forem letras do alfabeto.\n",
    "    # Perceba que o fluxo de execução só chegará aqui se o nome do produto inserido pelo usuário for inválido de acordo com as regras que definimos.\n",
    "    # Caso o fluxo de execução chegue até aqui, exibe a mensagem de erro e pede novamente que o usuário insira o nome do produto.\n",
    "    print(\"ERRO: produto incorreto, escreva o nome do produto somente com letras e sem espaços vazios.\")\n",
    "    produto = input(\"Digite o nome do produto (somente letras, sem espaços): \")\n",
    "\n",
    "# Pede ao usuário que insira o número de série do produto.\n",
    "numero_serie = input(\"Digite o número de série (4 números, sem letras ou símbolos): \")\n",
    "\n",
    "# Verifica se o número de série tem exatamente 4 dígitos e se esses dígitos são apenas números.\n",
    "while not (len(numero_serie) == 4 and numero_serie.isdigit()):  # Verifica tamanho e se são números\n",
    "    # Caso o fluxo de execução chegue até aqui, exibe a mensagem de erro e pede novamente que o usuário insira o número de série do produto.\n",
    "    print(\"ERRO: número de série incorreto, ele deve conter exatamente 4 números inteiros.\")\n",
    "    numero_serie = input(\"Digite o número de série (4 números, sem letras ou símbolos): \")\n",
    "\n",
    "# Pede ao usuário que insira o valor do produto.\n",
    "valor = input(\"Digite o valor (com duas casas decimais, separado por ponto '.'): \")\n",
    "\n",
    "# Verifica se o valor é um número válido com exatamente duas casas decimais.\n",
    "while True:\n",
    "    partes = valor.split(\".\")  # Divide a string por \".\".\n",
    "\n",
    "    # Checa se temos duas partes, se a parte inteira e decimal são números e se a decimal tem 2 dígitos.\n",
    "    if len(partes) == 2 and partes[0].isdigit() and partes[1].isdigit() and len(partes[1]) == 2:\n",
    "        break\n",
    "    else:\n",
    "        print(\"ERRO: valor incorreto, ele deve ser um número com duas casas decimais.\")\n",
    "        valor = input(\"Digite o valor (com duas casas decimais, separado por ponto '.'): \")\n",
    "\n",
    "# Se tudo estiver correto, imprime o recibo.\n",
    "print(f\"\\nProduto: {produto}\")\n",
    "print(f\"Nº de série: {numero_serie}\")\n",
    "print(f\"Valor: {valor}\")  "
   ]
  }
 ],
 "metadata": {
  "kernelspec": {
   "display_name": "Python 3",
   "language": "python",
   "name": "python3"
  },
  "language_info": {
   "codemirror_mode": {
    "name": "ipython",
    "version": 3
   },
   "file_extension": ".py",
   "mimetype": "text/x-python",
   "name": "python",
   "nbconvert_exporter": "python",
   "pygments_lexer": "ipython3",
   "version": "3.12.0"
  }
 },
 "nbformat": 4,
 "nbformat_minor": 2
}
