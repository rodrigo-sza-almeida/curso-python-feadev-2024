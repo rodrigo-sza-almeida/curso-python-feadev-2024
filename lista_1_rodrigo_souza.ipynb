{
 "cells": [
  {
   "cell_type": "code",
   "execution_count": 3,
   "metadata": {},
   "outputs": [
    {
     "name": "stdout",
     "output_type": "stream",
     "text": [
      "O valor convertido em Dólar são de US$:1409.08, e o valor convertido em Euro são de €$:1130.48\n"
     ]
    }
   ],
   "source": [
    "# Exercício 1: Planejamento de viagem (Conversão de moedas)\n",
    "\n",
    "# Entrada de valores inseridos pelo usuário\n",
    "\n",
    "real_dolar = float(input(\"Digite o valor em Real para converter em Dólar: \"))\n",
    "real_euro = float(input(\"Digite o valor em Real para converter em Euro: \"))\n",
    "\n",
    "# Cálculo da conversão de Real para Dólar ou para Euro\n",
    "\n",
    "dolar_cambio = real_dolar / 5.60\n",
    "euro_cambio = real_euro / 6.10\n",
    "\n",
    "# Saída do resultado da conversão\n",
    "\n",
    "print(f\"O valor convertido em Dólar são de US$:{dolar_cambio:.2f}, e o valor convertido em Euro são de €$:{euro_cambio:.2f}\")"
   ]
  },
  {
   "cell_type": "code",
   "execution_count": null,
   "metadata": {},
   "outputs": [],
   "source": [
    "# Exercício 2: Cálculo do consumo de combustível\n",
    "\n",
    "# Entrada de valores inseridos pelo usuário\n",
    "\n",
    "km_distancia = float(input(\" Digite quantos quilômetros de distância você irá percorrer nesta viagem: \"))\n",
    "km_litro = float(input(\"Digite qual o consumo médio de combustível o seu carro utiliza por quilômetro rodado: \"))\n",
    "\n",
    "# Cálculo de consumo e valor da gasolina que será utilizada na viagem\n",
    "\n",
    "consumo_gasolina = km_distancia / km_litro\n",
    "valor_litro_gasolina = consumo_gasolina * 5.93\n",
    "\n",
    "print(f\"O seu carro vai consumir {consumo_gasolina:.2f} litros de gasolina nesta viagem o que vai te custar R${valor_litro_gasolina:.2f}\")"
   ]
  },
  {
   "cell_type": "code",
   "execution_count": 5,
   "metadata": {},
   "outputs": [
    {
     "name": "stdout",
     "output_type": "stream",
     "text": [
      "Sua senha é: ISA19 34!\n"
     ]
    }
   ],
   "source": [
    "# Exercício 3: Gerador de senhas personalizadas (Manipulação de strings)\n",
    "\n",
    "# Entrada de dados inseridos pelo usuário\n",
    "\n",
    "nome_usuario = input(\"Digite o seu nome completo: \")\n",
    "data_usuario = input(\"Digite sua data de nascimento (formato XX/XX/XXXX): \")\n",
    "\n",
    "# Manipulação da string para criar uma nova senha\n",
    "\n",
    "senha_nome_usuario = nome_usuario[0:3]\n",
    "senha_data_usuario = data_usuario[6:8]\n",
    "contagem_caractere = len(nome_usuario) + len(data_usuario)\n",
    "senha_usuario = senha_nome_usuario + senha_data_usuario + \" \"\n",
    "\n",
    "# Saída \n",
    "\n",
    "print(f\"Sua senha é: {senha_usuario.upper()}{contagem_caractere}!\")\n"
   ]
  },
  {
   "cell_type": "code",
   "execution_count": 4,
   "metadata": {},
   "outputs": [
    {
     "name": "stdout",
     "output_type": "stream",
     "text": [
      "O montante de seu investimento será de: R$2357.03\n"
     ]
    }
   ],
   "source": [
    "# Exercício 4: Cálculo de Juros Simples (Aplicação Financeira)\n",
    "\n",
    "# Constantes\n",
    "\n",
    "taxa_juro_ano = 0.129\n",
    "taxa_juro_mes = 0.0102\n",
    "\n",
    "# Entrada de valores inseridos pelo usuário\n",
    "\n",
    "capital_inicial = float(input(\"Digite o valor que você iniciará seu investimento: \"))\n",
    "\n",
    "# Menu e cálculo baseado na escolha do período efetuada pelo usuário\n",
    "\n",
    "menu_periodo = input(f\"\"\"Escolha o período que seu dinheiro irá ficar investido:\n",
    "                      \n",
    "                      [m] - Meses\n",
    "                      [a] - Anos\n",
    "                    \n",
    "                      =>  \"\"\")\n",
    "while True:\n",
    "    \n",
    "    opcao = input(menu_periodo)\n",
    "    \n",
    "    if opcao == \"m\":\n",
    "        \n",
    "        periodo_mes = int(input(\"Digite quantos meses seu dinheiro ficará investido: \"))\n",
    "        montante_meses = capital_inicial * taxa_juro_mes * periodo_mes\n",
    "        print(\"O montante de seu investimento será de: R${montante_meses:.2f}\")\n",
    "        \n",
    "    elif opcao == \"a\":\n",
    "        \n",
    "        periodo_ano = int(input(\"Digite quantos anos seu dinheiro ficará investido: \"))\n",
    "        montante_ano = capital_inicial * taxa_juro_ano * periodo_ano\n",
    "        print(f\"O montante de seu investimento será de: R${montante_ano:.2f}\")\n",
    "        \n",
    "    else:\n",
    "        \n",
    "        continue\n",
    "    \n",
    "    break"
   ]
  },
  {
   "cell_type": "code",
   "execution_count": null,
   "metadata": {},
   "outputs": [],
   "source": [
    "# Desafio: Verificação de ID Válido\n",
    "\n",
    "# Menu e verificação de CPF e CNPJ baseado na escolha do usuário\n",
    "\n",
    "menu = input(f\"\"\"\"Escolha a opção Pessoa Física ou Jurídica\n",
    "             \n",
    "             [f] Pessoa Física \n",
    "             [j] Pessoa Jurídica\n",
    "             \n",
    "             => \"\"\")\n",
    "\n",
    "while True:\n",
    "    \n",
    "    opcao = input(menu)\n",
    "    \n",
    "    if opcao == \"f\":\n",
    "        \n",
    "        cpf_usuario = input(\"Digite seu CPF (formato XXX.XXX.XXX-XX): \")\n",
    "        cont_cpf = len(cpf_usuario)\n",
    "        \n",
    "        if cont_cpf == 14:\n",
    "            print(\"CPF válido!\")\n",
    "        \n",
    "        else:\n",
    "            print(\"CPF inválido!\")\n",
    "            \n",
    "    elif opcao == \"j\":\n",
    "        \n",
    "        cnpj_usuario = input(\"Digite seu CNPJ (formato XX.XXX.XXX/0001-XX): \")\n",
    "        cont_cnpj = len(cnpj_usuario)\n",
    "        \n",
    "        if cont_cnpj == 18:\n",
    "            print(\"CNPJ válido!\")\n",
    "            \n",
    "        else:\n",
    "            print(\"CNPJ inválido!\")\n",
    "            \n",
    "    else:\n",
    "        \n",
    "        continue\n",
    "    \n",
    "    break            \n",
    "            "
   ]
  }
 ],
 "metadata": {
  "kernelspec": {
   "display_name": "Python 3",
   "language": "python",
   "name": "python3"
  },
  "language_info": {
   "codemirror_mode": {
    "name": "ipython",
    "version": 3
   },
   "file_extension": ".py",
   "mimetype": "text/x-python",
   "name": "python",
   "nbconvert_exporter": "python",
   "pygments_lexer": "ipython3",
   "version": "3.12.0"
  }
 },
 "nbformat": 4,
 "nbformat_minor": 2
}
